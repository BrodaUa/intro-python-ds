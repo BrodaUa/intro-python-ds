{
 "cells": [
  {
   "cell_type": "markdown",
   "metadata": {},
   "source": [
    "# Task 1: text cosine distance"
   ]
  },
  {
   "cell_type": "code",
   "execution_count": 1,
   "metadata": {},
   "outputs": [
    {
     "name": "stdout",
     "output_type": "stream",
     "text": [
      "in comparison to dogs, cats have not undergone major changes during the domestication process.\n",
      "as cat simply catenates streams of bytes, it can be also used to concatenate binary files, where it will \n"
     ]
    }
   ],
   "source": [
    "with open('./sentences.txt') as file:\n",
    "    text = str.lower(file.read())\n",
    "print (text[:200])"
   ]
  },
  {
   "cell_type": "code",
   "execution_count": 2,
   "metadata": {},
   "outputs": [
    {
     "data": {
      "text/plain": [
       "(22, 254)"
      ]
     },
     "execution_count": 2,
     "metadata": {},
     "output_type": "execute_result"
    }
   ],
   "source": [
    "import re\n",
    "import numpy as np\n",
    "\n",
    "def filter_by_len(s, l):\n",
    "    return np.array(s)[np.array([len(i) for i in s]) > l]\n",
    "    \n",
    "words = filter_by_len(np.unique(re.split('[^a-z]',text)), 0)\n",
    "sentences = filter_by_len(re.split('\\n', text), 0)\n",
    "\n",
    "matrix = np.array([i.tolist().count(j) for i \\\n",
    "    in [filter_by_len(w,0) for w in [[a for a in re.split('[^a-z]', s)] for s in sentences]] for j in words]) \\\n",
    "    .reshape(len(sentences), len(words))\n",
    "\n",
    "matrix.shape"
   ]
  },
  {
   "cell_type": "code",
   "execution_count": 3,
   "metadata": {},
   "outputs": [
    {
     "data": {
      "text/plain": [
       "[(0.0,\n",
       "  0,\n",
       "  'in comparison to dogs, cats have not undergone major changes during the domestication process.'),\n",
       " (0.7327387580875756,\n",
       "  6,\n",
       "  'domestic cats are similar in size to the other members of the genus felis, typically weighing between 4 and 5 kg (8.8 and 11.0 lb).'),\n",
       " (0.7770887149698589,\n",
       "  4,\n",
       "  'in one, people deliberately tamed cats in a process of artificial selection, as they were useful predators of vermin.')]"
      ]
     },
     "execution_count": 3,
     "metadata": {},
     "output_type": "execute_result"
    }
   ],
   "source": [
    "from scipy.spatial.distance import cosine\n",
    "\n",
    "distance = [(cosine(matrix[0], i), j, k) for i,j,k in zip(matrix, range(len(sentences)), sentences)]\n",
    "distance.sort(key = lambda t: t[0])\n",
    "distance[:3]"
   ]
  },
  {
   "cell_type": "markdown",
   "metadata": {},
   "source": [
    "# Task 2: function approximation"
   ]
  },
  {
   "cell_type": "code",
   "execution_count": 4,
   "metadata": {},
   "outputs": [],
   "source": [
    "import matplotlib.pyplot as plt\n",
    "from scipy.linalg import solve\n",
    "from math import sin, exp\n",
    "\n",
    "def complex_func(x):\n",
    "    return sin(x/5)*exp(x/10) + 5*exp(-x/2)\n",
    "\n",
    "def generate_data(f):\n",
    "    X = np.arange(1,15,0.01)\n",
    "    Y = [f(x) for x in X]\n",
    "    return X.tolist(),Y\n",
    "\n",
    "def approximate(x):\n",
    "    b = [complex_func(i) for i in x]\n",
    "    A = [[i**p for p in range(len(x))] for i in x]\n",
    "    return A, b, solve(A, b)\n",
    "\n",
    "def f_polynom(x, w):\n",
    "    return sum([wi*(x**p) for wi,p in zip(w, range(len(w)))])\n",
    "    "
   ]
  },
  {
   "cell_type": "code",
   "execution_count": 5,
   "metadata": {},
   "outputs": [
    {
     "data": {
      "text/plain": [
       "<matplotlib.collections.PathCollection at 0x7f76f5c03cf8>"
      ]
     },
     "execution_count": 5,
     "metadata": {},
     "output_type": "execute_result"
    },
    {
     "data": {
      "image/png": "[encoded data removed]",
      "text/plain": [
       "<matplotlib.figure.Figure at 0x7f771cc852e8>"
      ]
     },
     "metadata": {},
     "output_type": "display_data"
    }
   ],
   "source": [
    "x,y = generate_data(complex_func)\n",
    "plt.scatter(x,y, s=0.5)"
   ]
  },
  {
   "cell_type": "code",
   "execution_count": 6,
   "metadata": {},
   "outputs": [
    {
     "name": "stdout",
     "output_type": "stream",
     "text": [
      "[[1, 1], [1, 15]] [3.252216865271419, 0.6352214195786656] [ 3.43914511 -0.18692825]\n",
      "[3.25221687 0.63522142]\n"
     ]
    }
   ],
   "source": [
    "A, b, w_1 = approximate([1,15])\n",
    "print (A, b, w_1)\n",
    "print(np.dot(w_1,A))"
   ]
  },
  {
   "cell_type": "code",
   "execution_count": 7,
   "metadata": {},
   "outputs": [
    {
     "data": {
      "text/plain": [
       "<matplotlib.collections.PathCollection at 0x7f76f5b201d0>"
      ]
     },
     "execution_count": 7,
     "metadata": {},
     "output_type": "execute_result"
    },
    {
     "data": {
      "image/png": "[encoded data removed]",
      "text/plain": [
       "<matplotlib.figure.Figure at 0x7f76fd72f4a8>"
      ]
     },
     "metadata": {},
     "output_type": "display_data"
    }
   ],
   "source": [
    "x,y = generate_data(lambda x: f_polynom(x, w_1))\n",
    "plt.scatter(x,y, s=0.5)"
   ]
  },
  {
   "cell_type": "code",
   "execution_count": 10,
   "metadata": {},
   "outputs": [
    {
     "data": {
      "text/plain": [
       "<matplotlib.collections.PathCollection at 0x7f76f5a3f940>"
      ]
     },
     "execution_count": 10,
     "metadata": {},
     "output_type": "execute_result"
    },
    {
     "data": {
      "image/png": "[encoded data removed]",
      "text/plain": [
       "<matplotlib.figure.Figure at 0x7f76f5af1828>"
      ]
     },
     "metadata": {},
     "output_type": "display_data"
    }
   ],
   "source": [
    "A, b, w_2 = approximate([1,8,15])\n",
    "x,y = generate_data(lambda x: f_polynom(x, w_2))\n",
    "plt.scatter(x,y, s=0.5)"
   ]
  },
  {
   "cell_type": "code",
   "execution_count": 11,
   "metadata": {},
   "outputs": [
    {
     "data": {
      "text/plain": [
       "<matplotlib.collections.PathCollection at 0x7f76f59a24e0>"
      ]
     },
     "execution_count": 11,
     "metadata": {},
     "output_type": "execute_result"
    },
    {
     "data": {
      "image/png": "[encoded data removed]",
      "text/plain": [
       "<matplotlib.figure.Figure at 0x7f76f5abf048>"
      ]
     },
     "metadata": {},
     "output_type": "display_data"
    }
   ],
   "source": [
    "A, b, w_3 = approximate([1,4,10,15])\n",
    "x,y = generate_data(lambda x: f_polynom(x, w_3))\n",
    "plt.scatter(x,y, s=0.5)"
   ]
  },
  {
   "cell_type": "code",
   "execution_count": 12,
   "metadata": {},
   "outputs": [
    {
     "data": {
      "text/plain": [
       "array([ 4.36264154, -1.29552587,  0.19333685, -0.00823565])"
      ]
     },
     "execution_count": 12,
     "metadata": {},
     "output_type": "execute_result"
    }
   ],
   "source": [
    "w_3"
   ]
  }
 ],
 "metadata": {
  "kernelspec": {
   "display_name": "Python 3",
   "language": "python",
   "name": "python3"
  },
  "language_info": {
   "codemirror_mode": {
    "name": "ipython",
    "version": 3
   },
   "file_extension": ".py",
   "mimetype": "text/x-python",
   "name": "python",
   "nbconvert_exporter": "python",
   "pygments_lexer": "ipython3",
   "version": "3.6.4"
  }
 },
 "nbformat": 4,
 "nbformat_minor": 2
}
