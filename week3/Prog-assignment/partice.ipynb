{
 "cells": [
  {
   "cell_type": "markdown",
   "metadata": {},
   "source": [
    "# Task 1"
   ]
  },
  {
   "cell_type": "code",
   "execution_count": 1,
   "metadata": {},
   "outputs": [],
   "source": [
    "import numpy as np\n",
    "from math import sin, exp, floor\n",
    "\n",
    "def generate_data(f, start, stop, step):\n",
    "    X = np.arange(start,stop,step)\n",
    "    Y = [f(x) for x in X]\n",
    "    return X.tolist(),Y\n",
    "\n",
    "def complex_func(x):\n",
    "    return sin(x/5)*exp(x/10) + 5*exp(-x/2)\n"
   ]
  },
  {
   "cell_type": "code",
   "execution_count": 2,
   "metadata": {},
   "outputs": [
    {
     "data": {
      "text/plain": [
       "<matplotlib.collections.PathCollection at 0x7fb8b07560b8>"
      ]
     },
     "execution_count": 2,
     "metadata": {},
     "output_type": "execute_result"
    },
    {
     "data": {
      "image/png": "[encoded data removed]",
      "text/plain": [
       "<matplotlib.figure.Figure at 0x7fb8cc043f28>"
      ]
     },
     "metadata": {},
     "output_type": "display_data"
    }
   ],
   "source": [
    "%matplotlib inline \n",
    "import matplotlib.pyplot as plt\n",
    "\n",
    "x,y = generate_data(complex_func, 0, 30, 0.01)\n",
    "plt.scatter(x,y, s=0.5)"
   ]
  },
  {
   "cell_type": "code",
   "execution_count": 3,
   "metadata": {},
   "outputs": [
    {
     "data": {
      "text/plain": [
       "      fun: 1.745268290331984\n",
       " hess_inv: array([[6.0552088]])\n",
       "      jac: array([-5.96046448e-08])\n",
       "  message: 'Optimization terminated successfully.'\n",
       "     nfev: 21\n",
       "      nit: 6\n",
       "     njev: 7\n",
       "   status: 0\n",
       "  success: True\n",
       "        x: array([4.13628832])"
      ]
     },
     "execution_count": 3,
     "metadata": {},
     "output_type": "execute_result"
    }
   ],
   "source": [
    "from scipy.optimize import minimize, differential_evolution\n",
    "\n",
    "minimize(complex_func, 5)"
   ]
  },
  {
   "cell_type": "code",
   "execution_count": 4,
   "metadata": {},
   "outputs": [
    {
     "data": {
      "text/plain": [
       "      fun: -11.503580757136064\n",
       " hess_inv: array([[49.07086822]])\n",
       "      jac: array([-0.62828672])\n",
       "  message: 'Desired error not necessarily achieved due to precision loss.'\n",
       "     nfev: 63\n",
       "      nit: 1\n",
       "     njev: 19\n",
       "   status: 2\n",
       "  success: False\n",
       "        x: array([24.67766109])"
      ]
     },
     "execution_count": 4,
     "metadata": {},
     "output_type": "execute_result"
    }
   ],
   "source": [
    "minimize(complex_func, 15)"
   ]
  },
  {
   "cell_type": "code",
   "execution_count": 5,
   "metadata": {},
   "outputs": [
    {
     "name": "stdout",
     "output_type": "stream",
     "text": [
      "      fun: 1.7452682903449388\n",
      " hess_inv: array([[5.98752437]])\n",
      "      jac: array([-2.07126141e-06])\n",
      "  message: 'Optimization terminated successfully.'\n",
      "     nfev: 21\n",
      "      nit: 6\n",
      "     njev: 7\n",
      "   status: 0\n",
      "  success: True\n",
      "        x: array([4.13627618])\n",
      "      fun: -11.898894665981285\n",
      " hess_inv: array([[1.67932484]])\n",
      "      jac: array([2.38418579e-07])\n",
      "  message: 'Optimization terminated successfully.'\n",
      "     nfev: 21\n",
      "      nit: 6\n",
      "     njev: 7\n",
      "   status: 0\n",
      "  success: True\n",
      "        x: array([25.88019339])\n"
     ]
    }
   ],
   "source": [
    "print(minimize(complex_func, 2, method='BFGS'))\n",
    "print(minimize(complex_func, 30, method='BFGS'))"
   ]
  },
  {
   "cell_type": "markdown",
   "metadata": {},
   "source": [
    "# Task 2"
   ]
  },
  {
   "cell_type": "code",
   "execution_count": 19,
   "metadata": {},
   "outputs": [
    {
     "data": {
      "text/plain": [
       "     fun: -11.898894665981269\n",
       "     jac: array([-1.77635684e-07])\n",
       " message: 'Optimization terminated successfully.'\n",
       "    nfev: 68\n",
       "     nit: 3\n",
       " success: True\n",
       "       x: array([25.8801926])"
      ]
     },
     "execution_count": 19,
     "metadata": {},
     "output_type": "execute_result"
    }
   ],
   "source": [
    "differential_evolution(complex_func, [(1,30)])"
   ]
  },
  {
   "cell_type": "markdown",
   "metadata": {},
   "source": [
    "# Task 3"
   ]
  },
  {
   "cell_type": "code",
   "execution_count": 7,
   "metadata": {},
   "outputs": [
    {
     "data": {
      "text/plain": [
       "<matplotlib.collections.PathCollection at 0x7fb89fe12908>"
      ]
     },
     "execution_count": 7,
     "metadata": {},
     "output_type": "execute_result"
    },
    {
     "data": {
      "image/png": "[encoded data removed]",
      "text/plain": [
       "<matplotlib.figure.Figure at 0x7fb89fe5e400>"
      ]
     },
     "metadata": {},
     "output_type": "display_data"
    }
   ],
   "source": [
    "def int_f(x):\n",
    "    return int(complex_func(x))\n",
    "\n",
    "x,y = generate_data(int_f, 0, 30, 0.01)\n",
    "plt.scatter(x,y, s=0.5)"
   ]
  },
  {
   "cell_type": "code",
   "execution_count": 22,
   "metadata": {},
   "outputs": [
    {
     "name": "stdout",
     "output_type": "stream",
     "text": [
      "      fun: -5\n",
      " hess_inv: array([[1]])\n",
      "      jac: array([0.])\n",
      "  message: 'Optimization terminated successfully.'\n",
      "     nfev: 3\n",
      "      nit: 0\n",
      "     njev: 1\n",
      "   status: 0\n",
      "  success: True\n",
      "        x: array([30.])\n",
      "     fun: -11.0\n",
      " message: 'Optimization terminated successfully.'\n",
      "    nfev: 62\n",
      "     nit: 3\n",
      " success: True\n",
      "       x: array([25.06655954])\n"
     ]
    }
   ],
   "source": [
    "print (minimize(int_f, 30, method='BFGS'))\n",
    "print (differential_evolution(int_f, [(1,30)]))"
   ]
  },
  {
   "cell_type": "code",
   "execution_count": null,
   "metadata": {},
   "outputs": [],
   "source": []
  }
 ],
 "metadata": {
  "kernelspec": {
   "display_name": "Python 3",
   "language": "python",
   "name": "python3"
  },
  "language_info": {
   "codemirror_mode": {
    "name": "ipython",
    "version": 3
   },
   "file_extension": ".py",
   "mimetype": "text/x-python",
   "name": "python",
   "nbconvert_exporter": "python",
   "pygments_lexer": "ipython3",
   "version": "3.6.4"
  }
 },
 "nbformat": 4,
 "nbformat_minor": 2
}
